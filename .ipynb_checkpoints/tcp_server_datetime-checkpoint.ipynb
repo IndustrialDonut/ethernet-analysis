{
 "cells": [
  {
   "cell_type": "code",
   "execution_count": 1,
   "id": "39756910-51f7-47dc-8844-3727f54e9acf",
   "metadata": {},
   "outputs": [],
   "source": [
    "import socket\n",
    "import datetime"
   ]
  },
  {
   "cell_type": "code",
   "execution_count": 2,
   "id": "fbe2d5f6-cb0c-4941-981c-efb3c0315f8f",
   "metadata": {},
   "outputs": [],
   "source": [
    "if __name__ == '__main__':\n",
    "    s = socket.socket(socket.AF_INET, socket.SOCK_STREAM)\n",
    "    s.bind(('127.0.0.1', 13))\n",
    "\n",
    "    s.listen()\n",
    "    conn, addr = s.accept()\n",
    "\n",
    "    conn.sendall(str(datetime.datetime.now()).encode('utf8'))\n",
    "\n",
    "    #while True:\n",
    "    ##    r = conn.recv(1024)\n",
    "    #    print(r)"
   ]
  },
  {
   "cell_type": "code",
   "execution_count": null,
   "id": "147e89e7-28e0-4668-9a6f-ee4d28ae9610",
   "metadata": {},
   "outputs": [],
   "source": []
  }
 ],
 "metadata": {
  "kernelspec": {
   "display_name": "Python 3 (ipykernel)",
   "language": "python",
   "name": "python3"
  },
  "language_info": {
   "codemirror_mode": {
    "name": "ipython",
    "version": 3
   },
   "file_extension": ".py",
   "mimetype": "text/x-python",
   "name": "python",
   "nbconvert_exporter": "python",
   "pygments_lexer": "ipython3",
   "version": "3.11.4"
  }
 },
 "nbformat": 4,
 "nbformat_minor": 5
}
