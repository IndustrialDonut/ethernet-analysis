{
 "cells": [
  {
   "cell_type": "code",
   "execution_count": 1,
   "id": "078e7f76-6dc3-4d4e-99f1-34b7f0c1bb0c",
   "metadata": {},
   "outputs": [],
   "source": [
    "# I want to demonstrate the logic involved in receiving packets out of order and reassembling them\n",
    "# And acknowledging that they've all been received after the fact so the sender knows, even if \n",
    "# there were no intermediate ACK's sent!\n",
    "import random"
   ]
  },
  {
   "cell_type": "code",
   "execution_count": 2,
   "id": "18aaf813-d5c7-4a01-88de-75521d6655e9",
   "metadata": {},
   "outputs": [],
   "source": [
    "class TCPSocket:\n",
    "    def __init__(self):\n",
    "        pass\n",
    "\n",
    "    def connect(self, socket):\n",
    "        pass"
   ]
  },
  {
   "cell_type": "code",
   "execution_count": 3,
   "id": "8f379889-a936-49e6-9dfd-ef016f15f0e1",
   "metadata": {},
   "outputs": [],
   "source": [
    "handshake = [\n",
    "    {\n",
    "        'flags':['SYN'],\n",
    "        'seq':0,\n",
    "    },\n",
    "    {\n",
    "        'flags':['ACK','SYN'],\n",
    "        'seq':0,\n",
    "        'ack':1,\n",
    "    },\n",
    "    {\n",
    "        'flags':['ACK'],\n",
    "        'ack':1,\n",
    "        'seq':1,\n",
    "    },\n",
    "]"
   ]
  },
  {
   "cell_type": "code",
   "execution_count": 4,
   "id": "f0e8eb88-40d7-498e-9991-3a5188684274",
   "metadata": {},
   "outputs": [
    {
     "name": "stdout",
     "output_type": "stream",
     "text": [
      "{'flags': ['SYN'], 'seq': 0}\n",
      "{'flags': ['ACK', 'SYN'], 'seq': 0, 'ack': 1}\n",
      "{'flags': ['ACK'], 'ack': 1, 'seq': 1}\n",
      "Connection established.\n"
     ]
    }
   ],
   "source": [
    "# Initiate the connection with the handshake\n",
    "for packet in handshake:\n",
    "    print(packet)\n",
    "print(\"Connection established.\")"
   ]
  },
  {
   "cell_type": "code",
   "execution_count": 5,
   "id": "0ccb288a-9784-4e20-95f9-db7633039ade",
   "metadata": {},
   "outputs": [],
   "source": [
    "# Have the server send the client some data that gets segmented into 3 different pieces, and arrives out of order\n",
    "server_send_buffer = [\n",
    "    {\n",
    "        'flags':['PSH', 'ACK'],\n",
    "        'seq':-1,\n",
    "        'ack':-1,\n",
    "        'data': b\"This is a message that may get \",\n",
    "    },\n",
    "    {\n",
    "        'flags':['PSH', 'ACK'],\n",
    "        'seq':-1,\n",
    "        'ack':-1,\n",
    "        'data': b\"sent out of order, because of internet routing things.\",\n",
    "    },\n",
    "    {\n",
    "        'flags':['PSH', 'ACK'],\n",
    "        'ack':-1,\n",
    "        'seq':-1,\n",
    "        'data':b\" If that happens, don't panic - because: \",\n",
    "    },\n",
    "    {\n",
    "        'flags':['PSH', 'ACK'],\n",
    "        'ack':-1,\n",
    "        'seq':-1,\n",
    "        'data':b\"we have TCP to the rescue!!!\",\n",
    "    },\n",
    "]"
   ]
  },
  {
   "cell_type": "code",
   "execution_count": 6,
   "id": "76b85038-6ff0-4bdd-8c9c-b3aa97fc7916",
   "metadata": {},
   "outputs": [],
   "source": [
    "def concat_message(packet_buffer):\n",
    "    msg_byts = [p['data'].decode('utf8') for p in packet_buffer]\n",
    "    message = ''.join(msg_byts) #.decode('utf8')\n",
    "    return message"
   ]
  },
  {
   "cell_type": "code",
   "execution_count": 7,
   "id": "b1ffce48-ac7a-476a-b597-9f15dc16e411",
   "metadata": {},
   "outputs": [
    {
     "name": "stdout",
     "output_type": "stream",
     "text": [
      " If that happens, don't panic - because: This is a message that may get we have TCP to the rescue!!!sent out of order, because of internet routing things.\n"
     ]
    }
   ],
   "source": [
    "# Label packets with seq and ack numbers\n",
    "server_ack = 1\n",
    "server_seq = 1\n",
    "\n",
    "incoming_buffer = []\n",
    "for packet in server_send_buffer:\n",
    "    size = len(packet['data'])\n",
    "    packet['seq'] = server_seq\n",
    "    packet['ack'] = server_ack\n",
    "    server_seq += size\n",
    "    incoming_buffer.append(packet)\n",
    "    #print(packet)\n",
    "\n",
    "# simulate out of order receiving by shuffling them 'after transit'!\n",
    "random.shuffle(incoming_buffer)\n",
    "\n",
    "print(concat_message(incoming_buffer))"
   ]
  },
  {
   "cell_type": "code",
   "execution_count": 8,
   "id": "3ffe8900-5f22-46c6-81aa-d6316c1c0b5a",
   "metadata": {},
   "outputs": [
    {
     "name": "stdout",
     "output_type": "stream",
     "text": [
      "Received seq 86, ack = 1\n",
      "Received seq 1, ack = 1\n",
      "----Good match!\n",
      "Received seq 127, ack = 32\n",
      "Received seq 32, ack = 32\n",
      "----Good match!\n",
      "Received seq 86, ack = 86\n",
      "----Good match!\n",
      "Received seq 127, ack = 127\n",
      "----Good match!\n",
      "This is a message that may get sent out of order, because of internet routing things. If that happens, don't panic - because: we have TCP to the rescue!!!\n"
     ]
    }
   ],
   "source": [
    "# Process the received packets in the order they were received\n",
    "#ooo_buffer = [] # 'out of order buffer' for those that were received early\n",
    "assembled_buffer = []\n",
    "client_seq = 1\n",
    "client_ack = 1\n",
    "\n",
    "while len(incoming_buffer):\n",
    "    packet = incoming_buffer.pop(0)\n",
    "    print(f\"Received seq {packet['seq']}, ack = {client_ack}\")\n",
    "    if packet['seq'] == client_ack:\n",
    "        print(\"----Good match!\")\n",
    "        assembled_buffer.append(packet)\n",
    "        client_ack += len(packet['data'])\n",
    "    else:\n",
    "        incoming_buffer.append(packet)\n",
    "\n",
    "# concat together to one message.\n",
    "print(concat_message(assembled_buffer))"
   ]
  },
  {
   "cell_type": "code",
   "execution_count": null,
   "id": "b56c5a22-96e8-4e5f-a26a-bc9e41c96688",
   "metadata": {},
   "outputs": [],
   "source": []
  }
 ],
 "metadata": {
  "kernelspec": {
   "display_name": "Python 3 (ipykernel)",
   "language": "python",
   "name": "python3"
  },
  "language_info": {
   "codemirror_mode": {
    "name": "ipython",
    "version": 3
   },
   "file_extension": ".py",
   "mimetype": "text/x-python",
   "name": "python",
   "nbconvert_exporter": "python",
   "pygments_lexer": "ipython3",
   "version": "3.11.4"
  }
 },
 "nbformat": 4,
 "nbformat_minor": 5
}
