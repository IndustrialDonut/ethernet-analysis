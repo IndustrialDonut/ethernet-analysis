{
 "cells": [
  {
   "cell_type": "code",
   "execution_count": 1,
   "id": "d6bb5e1d-c8bb-49be-ae4d-855bdafc2c45",
   "metadata": {},
   "outputs": [],
   "source": [
    "import socket\n",
    "import time"
   ]
  },
  {
   "cell_type": "code",
   "execution_count": 2,
   "id": "cb503ec9-f3bd-4a21-b1e1-111dc2d7f3eb",
   "metadata": {},
   "outputs": [],
   "source": [
    "s = socket.socket(family=socket.AF_INET, type=socket.SOCK_DGRAM)"
   ]
  },
  {
   "cell_type": "code",
   "execution_count": 3,
   "id": "3a2b1bcf-7183-4519-bdbd-63a370798aa1",
   "metadata": {},
   "outputs": [
    {
     "name": "stdout",
     "output_type": "stream",
     "text": [
      "34\n"
     ]
    }
   ],
   "source": [
    "#while True:\n",
    "    #time.sleep(0.5)\n",
    "r = s.sendto(b'tsdasdhis is my fucking payload420', ('123.123.1.1', 699))\n",
    "print(r)"
   ]
  },
  {
   "cell_type": "code",
   "execution_count": 4,
   "id": "a8e10332-cdaa-4085-a47c-6992d2709caa",
   "metadata": {},
   "outputs": [],
   "source": [
    "t = socket.socket(family=socket.AF_INET, type=socket.SOCK_STREAM)"
   ]
  },
  {
   "cell_type": "code",
   "execution_count": 5,
   "id": "9623dcf0-c868-43b6-9d5d-555a5b8d907b",
   "metadata": {},
   "outputs": [
    {
     "name": "stderr",
     "output_type": "stream",
     "text": [
      "\n",
      "KeyboardInterrupt\n",
      "\n"
     ]
    }
   ],
   "source": [
    "t.connect(('123.123.1.1', 3220))"
   ]
  },
  {
   "cell_type": "code",
   "execution_count": null,
   "id": "b7636bd4-1729-4277-b935-a125a26a8d0f",
   "metadata": {},
   "outputs": [],
   "source": [
    "t"
   ]
  },
  {
   "cell_type": "code",
   "execution_count": null,
   "id": "26e6ab8d-efdd-4767-8d0f-6cd2592efb1e",
   "metadata": {},
   "outputs": [],
   "source": [
    "t.sendall(b'This is my TCP payload now! :D')"
   ]
  },
  {
   "cell_type": "code",
   "execution_count": 5,
   "id": "6cef815b-6121-4949-8a80-d189264606d1",
   "metadata": {},
   "outputs": [
    {
     "ename": "ConnectionRefusedError",
     "evalue": "[WinError 10061] No connection could be made because the target machine actively refused it",
     "output_type": "error",
     "traceback": [
      "\u001b[1;31m---------------------------------------------------------------------------\u001b[0m",
      "\u001b[1;31mConnectionRefusedError\u001b[0m                    Traceback (most recent call last)",
      "Cell \u001b[1;32mIn[5], line 2\u001b[0m\n\u001b[0;32m      1\u001b[0m \u001b[38;5;28;01mwith\u001b[39;00m socket\u001b[38;5;241m.\u001b[39msocket(family\u001b[38;5;241m=\u001b[39msocket\u001b[38;5;241m.\u001b[39mAF_INET, \u001b[38;5;28mtype\u001b[39m\u001b[38;5;241m=\u001b[39msocket\u001b[38;5;241m.\u001b[39mSOCK_STREAM) \u001b[38;5;28;01mas\u001b[39;00m tcp:\n\u001b[1;32m----> 2\u001b[0m     \u001b[43mtcp\u001b[49m\u001b[38;5;241;43m.\u001b[39;49m\u001b[43mconnect\u001b[49m\u001b[43m(\u001b[49m\u001b[43m(\u001b[49m\u001b[38;5;124;43m'\u001b[39;49m\u001b[38;5;124;43m10.0.0.42\u001b[39;49m\u001b[38;5;124;43m'\u001b[39;49m\u001b[43m,\u001b[49m\u001b[43m \u001b[49m\u001b[38;5;241;43m13\u001b[39;49m\u001b[43m)\u001b[49m\u001b[43m)\u001b[49m\n\u001b[0;32m      3\u001b[0m     r \u001b[38;5;241m=\u001b[39m tcp\u001b[38;5;241m.\u001b[39mrecv(\u001b[38;5;241m1024\u001b[39m)\n\u001b[0;32m      4\u001b[0m     \u001b[38;5;28mprint\u001b[39m(r)\n",
      "\u001b[1;31mConnectionRefusedError\u001b[0m: [WinError 10061] No connection could be made because the target machine actively refused it"
     ]
    }
   ],
   "source": [
    "with socket.socket(family=socket.AF_INET, type=socket.SOCK_STREAM) as tcp:\n",
    "    tcp.connect(('10.0.0.42', 1033))\n",
    "    r = tcp.recv(1024)\n",
    "    print(r)"
   ]
  },
  {
   "cell_type": "code",
   "execution_count": 6,
   "id": "5ec5e6a1-b4c9-4103-975f-c6db72862d4c",
   "metadata": {},
   "outputs": [],
   "source": [
    "#tcp.sendall(b'r')"
   ]
  },
  {
   "cell_type": "code",
   "execution_count": 7,
   "id": "773d4439-b222-49cc-8444-13eee4f18a60",
   "metadata": {},
   "outputs": [],
   "source": []
  },
  {
   "cell_type": "code",
   "execution_count": 8,
   "id": "42aa2d22-bd7d-4eaa-877c-886269bef2f1",
   "metadata": {},
   "outputs": [
    {
     "data": {
      "text/plain": [
       "b'2024-03-23 13:26:15.916439'"
      ]
     },
     "execution_count": 8,
     "metadata": {},
     "output_type": "execute_result"
    }
   ],
   "source": []
  },
  {
   "cell_type": "code",
   "execution_count": null,
   "id": "2e88fba5-e670-4e24-964b-a31edbb1b077",
   "metadata": {},
   "outputs": [],
   "source": []
  }
 ],
 "metadata": {
  "kernelspec": {
   "display_name": "Python 3 (ipykernel)",
   "language": "python",
   "name": "python3"
  },
  "language_info": {
   "codemirror_mode": {
    "name": "ipython",
    "version": 3
   },
   "file_extension": ".py",
   "mimetype": "text/x-python",
   "name": "python",
   "nbconvert_exporter": "python",
   "pygments_lexer": "ipython3",
   "version": "3.11.4"
  }
 },
 "nbformat": 4,
 "nbformat_minor": 5
}
