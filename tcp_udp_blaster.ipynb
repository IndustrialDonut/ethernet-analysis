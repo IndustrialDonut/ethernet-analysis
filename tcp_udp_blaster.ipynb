{
 "cells": [
  {
   "cell_type": "code",
   "execution_count": 1,
   "id": "d6bb5e1d-c8bb-49be-ae4d-855bdafc2c45",
   "metadata": {},
   "outputs": [],
   "source": [
    "import socket\n",
    "import time"
   ]
  },
  {
   "cell_type": "code",
   "execution_count": 2,
   "id": "cb503ec9-f3bd-4a21-b1e1-111dc2d7f3eb",
   "metadata": {},
   "outputs": [],
   "source": [
    "s = socket.socket(family=socket.AF_INET, type=socket.SOCK_DGRAM)"
   ]
  },
  {
   "cell_type": "code",
   "execution_count": 3,
   "id": "3a2b1bcf-7183-4519-bdbd-63a370798aa1",
   "metadata": {},
   "outputs": [
    {
     "name": "stdout",
     "output_type": "stream",
     "text": [
      "34\n"
     ]
    }
   ],
   "source": [
    "#while True:\n",
    "    #time.sleep(0.5)\n",
    "r = s.sendto(b'tsdasdhis is my fucking payload420', ('123.123.1.1', 699))\n",
    "print(r)"
   ]
  },
  {
   "cell_type": "code",
   "execution_count": 4,
   "id": "a8e10332-cdaa-4085-a47c-6992d2709caa",
   "metadata": {},
   "outputs": [],
   "source": [
    "t = socket.socket(family=socket.AF_INET, type=socket.SOCK_STREAM)"
   ]
  },
  {
   "cell_type": "code",
   "execution_count": 5,
   "id": "9623dcf0-c868-43b6-9d5d-555a5b8d907b",
   "metadata": {},
   "outputs": [],
   "source": [
    "t.connect(('123.123.1.1', 3220))"
   ]
  },
  {
   "cell_type": "code",
   "execution_count": 6,
   "id": "b7636bd4-1729-4277-b935-a125a26a8d0f",
   "metadata": {},
   "outputs": [
    {
     "data": {
      "text/plain": [
       "<socket.socket fd=1468, family=2, type=1, proto=0, laddr=('123.123.1.4', 55260), raddr=('123.123.1.1', 3220)>"
      ]
     },
     "execution_count": 6,
     "metadata": {},
     "output_type": "execute_result"
    }
   ],
   "source": [
    "t"
   ]
  },
  {
   "cell_type": "code",
   "execution_count": 12,
   "id": "26e6ab8d-efdd-4767-8d0f-6cd2592efb1e",
   "metadata": {},
   "outputs": [],
   "source": [
    "t.sendall(b'This is my TCP payload now! :D')"
   ]
  }
 ],
 "metadata": {
  "kernelspec": {
   "display_name": "Python 3 (ipykernel)",
   "language": "python",
   "name": "python3"
  },
  "language_info": {
   "codemirror_mode": {
    "name": "ipython",
    "version": 3
   },
   "file_extension": ".py",
   "mimetype": "text/x-python",
   "name": "python",
   "nbconvert_exporter": "python",
   "pygments_lexer": "ipython3",
   "version": "3.11.4"
  }
 },
 "nbformat": 4,
 "nbformat_minor": 5
}
